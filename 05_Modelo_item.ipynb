{
 "cells": [
  {
   "cell_type": "code",
   "execution_count": 1,
   "metadata": {},
   "outputs": [],
   "source": [
    "import pandas as pd\n",
    "from sklearn.metrics.pairwise        import cosine_similarity\n",
    "from sklearn.metrics.pairwise        import linear_kernel\n",
    "from sklearn.feature_extraction.text import TfidfVectorizer"
   ]
  },
  {
   "cell_type": "code",
   "execution_count": 2,
   "metadata": {},
   "outputs": [],
   "source": [
    "df_SteamGames=pd.read_csv('steam_games_cleaned.csv')\n",
    "df_UserReviews=pd.read_csv('user_reviews_cleaned.csv')"
   ]
  },
  {
   "cell_type": "code",
   "execution_count": 3,
   "metadata": {},
   "outputs": [],
   "source": [
    "# Se crea un nuevo DataFrame llamado df_games que contiene solo las columnas relevantes\n",
    "game_columns = ['item_id', 'name']\n",
    "df_games = df_SteamGames[game_columns]\n",
    "\n",
    "# Se hace un join entre df_games y df_UserItems utilizando 'item_id' como clave\n",
    "df_joined = pd.merge(df_games, df_UserReviews[['item_id', 'review']], on='item_id', how='inner')"
   ]
  },
  {
   "cell_type": "code",
   "execution_count": 4,
   "metadata": {},
   "outputs": [],
   "source": [
    "#Se crea una muestra para el modelo\n",
    "muestra = df_joined.head(20000)"
   ]
  },
  {
   "cell_type": "code",
   "execution_count": 5,
   "metadata": {},
   "outputs": [],
   "source": [
    "# Se crea el modelo de machine learning con Scikit-Learn\n",
    "tfidf = TfidfVectorizer(stop_words='english')\n",
    "muestra=muestra.fillna(\"\")\n",
    "\n",
    "tdfid_matrix = tfidf.fit_transform(muestra['review'])\n",
    "cosine_similarity = linear_kernel( tdfid_matrix, tdfid_matrix)"
   ]
  },
  {
   "cell_type": "code",
   "execution_count": 6,
   "metadata": {},
   "outputs": [],
   "source": [
    "# Se crea la funcion de recomendación de 5 juegos recomendados para el juego ingresado.\n",
    "def recomendacion_juego(id: int):\n",
    "    if id not in muestra['item_id'].values:\n",
    "        return {'mensaje': 'No existe el id del juego'}\n",
    "    \n",
    "    titulo = muestra.loc[muestra['item_id'] == id, 'name'].iloc[0]\n",
    "    idx = muestra[muestra['name'] == titulo].index[0]\n",
    "    sim_cosine = list(enumerate(cosine_similarity[idx]))\n",
    "    sim_scores = sorted(sim_cosine, key=lambda x: x[1], reverse=True)\n",
    "    sim_ind = [i for i, _ in sim_scores[1:6]]\n",
    "    sim_juegos = muestra['name'].iloc[sim_ind].values.tolist()\n",
    "    return {'juegos recomendados': list(sim_juegos)}"
   ]
  },
  {
   "cell_type": "code",
   "execution_count": 8,
   "metadata": {},
   "outputs": [
    {
     "name": "stdout",
     "output_type": "stream",
     "text": [
      "{'juegos recomendados': ['Brawlhalla', 'Stranded Deep', 'Spiral Knights', \"Garry's Mod\", \"Sid Meier's Civilization® V\"]}\n"
     ]
    }
   ],
   "source": [
    "# Ejemplo de uso del modelo\n",
    "print(recomendacion_juego(99900))"
   ]
  },
  {
   "cell_type": "code",
   "execution_count": 9,
   "metadata": {},
   "outputs": [
    {
     "data": {
      "text/html": [
       "<div>\n",
       "<style scoped>\n",
       "    .dataframe tbody tr th:only-of-type {\n",
       "        vertical-align: middle;\n",
       "    }\n",
       "\n",
       "    .dataframe tbody tr th {\n",
       "        vertical-align: top;\n",
       "    }\n",
       "\n",
       "    .dataframe thead th {\n",
       "        text-align: right;\n",
       "    }\n",
       "</style>\n",
       "<table border=\"1\" class=\"dataframe\">\n",
       "  <thead>\n",
       "    <tr style=\"text-align: right;\">\n",
       "      <th></th>\n",
       "      <th>item_id</th>\n",
       "      <th>name</th>\n",
       "      <th>review</th>\n",
       "    </tr>\n",
       "  </thead>\n",
       "  <tbody>\n",
       "    <tr>\n",
       "      <th>0</th>\n",
       "      <td>282010</td>\n",
       "      <td>Carmageddon Max Pack</td>\n",
       "      <td>oh where do i start dos</td>\n",
       "    </tr>\n",
       "    <tr>\n",
       "      <th>1</th>\n",
       "      <td>70</td>\n",
       "      <td>Half-Life</td>\n",
       "      <td>if you own any half life but not this one that...</td>\n",
       "    </tr>\n",
       "    <tr>\n",
       "      <th>2</th>\n",
       "      <td>70</td>\n",
       "      <td>Half-Life</td>\n",
       "      <td>this is one of the greatest games i have ever ...</td>\n",
       "    </tr>\n",
       "    <tr>\n",
       "      <th>3</th>\n",
       "      <td>70</td>\n",
       "      <td>Half-Life</td>\n",
       "      <td>possibly the best fps game ever</td>\n",
       "    </tr>\n",
       "    <tr>\n",
       "      <th>4</th>\n",
       "      <td>70</td>\n",
       "      <td>Half-Life</td>\n",
       "      <td>do i honestly need to recommend this</td>\n",
       "    </tr>\n",
       "    <tr>\n",
       "      <th>...</th>\n",
       "      <td>...</td>\n",
       "      <td>...</td>\n",
       "      <td>...</td>\n",
       "    </tr>\n",
       "    <tr>\n",
       "      <th>19995</th>\n",
       "      <td>316010</td>\n",
       "      <td>Magic Duels</td>\n",
       "      <td>magic is a great game to play with friends and...</td>\n",
       "    </tr>\n",
       "    <tr>\n",
       "      <th>19996</th>\n",
       "      <td>316010</td>\n",
       "      <td>Magic Duels</td>\n",
       "      <td>i was enjoying this game playing the single pl...</td>\n",
       "    </tr>\n",
       "    <tr>\n",
       "      <th>19997</th>\n",
       "      <td>316010</td>\n",
       "      <td>Magic Duels</td>\n",
       "      <td>i like this its got basic rules that beginners...</td>\n",
       "    </tr>\n",
       "    <tr>\n",
       "      <th>19998</th>\n",
       "      <td>316010</td>\n",
       "      <td>Magic Duels</td>\n",
       "      <td>yeah so far so good interface very smooth</td>\n",
       "    </tr>\n",
       "    <tr>\n",
       "      <th>19999</th>\n",
       "      <td>316010</td>\n",
       "      <td>Magic Duels</td>\n",
       "      <td>play this game better than hearthstone d</td>\n",
       "    </tr>\n",
       "  </tbody>\n",
       "</table>\n",
       "<p>20000 rows × 3 columns</p>\n",
       "</div>"
      ],
      "text/plain": [
       "       item_id                  name  \\\n",
       "0       282010  Carmageddon Max Pack   \n",
       "1           70             Half-Life   \n",
       "2           70             Half-Life   \n",
       "3           70             Half-Life   \n",
       "4           70             Half-Life   \n",
       "...        ...                   ...   \n",
       "19995   316010           Magic Duels   \n",
       "19996   316010           Magic Duels   \n",
       "19997   316010           Magic Duels   \n",
       "19998   316010           Magic Duels   \n",
       "19999   316010           Magic Duels   \n",
       "\n",
       "                                                  review  \n",
       "0                                oh where do i start dos  \n",
       "1      if you own any half life but not this one that...  \n",
       "2      this is one of the greatest games i have ever ...  \n",
       "3                        possibly the best fps game ever  \n",
       "4                   do i honestly need to recommend this  \n",
       "...                                                  ...  \n",
       "19995  magic is a great game to play with friends and...  \n",
       "19996  i was enjoying this game playing the single pl...  \n",
       "19997  i like this its got basic rules that beginners...  \n",
       "19998          yeah so far so good interface very smooth  \n",
       "19999           play this game better than hearthstone d  \n",
       "\n",
       "[20000 rows x 3 columns]"
      ]
     },
     "execution_count": 9,
     "metadata": {},
     "output_type": "execute_result"
    }
   ],
   "source": [
    "muestra"
   ]
  }
 ],
 "metadata": {
  "kernelspec": {
   "display_name": "PI1",
   "language": "python",
   "name": "python3"
  },
  "language_info": {
   "codemirror_mode": {
    "name": "ipython",
    "version": 3
   },
   "file_extension": ".py",
   "mimetype": "text/x-python",
   "name": "python",
   "nbconvert_exporter": "python",
   "pygments_lexer": "ipython3",
   "version": "3.11.8"
  }
 },
 "nbformat": 4,
 "nbformat_minor": 2
}
