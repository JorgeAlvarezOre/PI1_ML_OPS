{
 "cells": [
  {
   "cell_type": "code",
   "execution_count": 1,
   "metadata": {},
   "outputs": [],
   "source": [
    "import pandas as pd\n",
    "import pyarrow.parquet as pq"
   ]
  },
  {
   "cell_type": "code",
   "execution_count": 2,
   "metadata": {},
   "outputs": [],
   "source": [
    "# Rutas del CSV\n",
    "steam_games_cleaned_csv_path = \"steam_games_cleaned.csv\"\n",
    "user_items_cleaned_csv_path = \"user_items_cleaned.csv\"\n",
    "user_reviews_cleaned_csv_path = \"user_reviews_cleaned.csv\"\n",
    "\n",
    "# CSV -> Parquet\n",
    "df_steam_games_cleaned = pd.read_csv(steam_games_cleaned_csv_path)\n",
    "df_user_items_cleaned = pd.read_csv(user_items_cleaned_csv_path)\n",
    "df_user_reviews_cleaned = pd.read_csv(user_reviews_cleaned_csv_path)\n",
    "\n",
    "df_steam_games_cleaned.to_parquet(\"df_steam_games_cleaned.parquet\", index=False)\n",
    "df_user_items_cleaned.to_parquet(\"df_user_items_cleaned.parquet\", index=False)\n",
    "df_user_reviews_cleaned.to_parquet(\"df_user_reviews_cleaned.parquet\", index=False)"
   ]
  },
  {
   "cell_type": "code",
   "execution_count": 5,
   "metadata": {},
   "outputs": [
    {
     "data": {
      "text/plain": [
       "pyarrow.Table\n",
       "name: string\n",
       "tags: string\n",
       "specs: string\n",
       "price: double\n",
       "item_id: int64\n",
       "developer: string\n",
       "year: int64\n",
       "Indie: double\n",
       "Action: double\n",
       "Casual: double\n",
       "Adventure: double\n",
       "Strategy: double\n",
       "Simulation: double\n",
       "RPG: double\n",
       "Free to Play: double\n",
       "Early Access: double\n",
       "Sports: double\n",
       "Massively Multiplayer: double\n",
       "Racing: double\n",
       "Design &amp; Illustration: double\n",
       "Utilities: double\n",
       "----\n",
       "name: [[\"Lost Summoner Kitty\",\"Ironbound\",\"Real Pool 3D - Poolians\",\"弹炸人2222\",\"Log Challenge\",...,\"BAE 2\",\"Kebab it Up!\",\"Colony On Mars\",\"LOGistICAL: South Africa\",\"Russian Roads\"]]\n",
       "tags: [[\"['Strategy', 'Action', 'Indie', 'Casual', 'Simulation']\",\"['Free to Play', 'Strategy', 'Indie', 'RPG', 'Card Game', 'Trading Card Game', 'Turn-Based', 'Fantasy', 'Tactical', 'Dark Fantasy', 'Board Game', 'PvP', '2D', 'Competitive', 'Replay Value', 'Character Customization', 'Female Protagonist', 'Difficult', 'Design & Illustration']\",\"['Free to Play', 'Simulation', 'Sports', 'Casual', 'Indie', 'Multiplayer']\",\"['Action', 'Adventure', 'Casual']\",\"['Action', 'Indie', 'Casual', 'Sports']\",...,\"['Indie', 'Casual']\",\"['Action', 'Indie', 'Casual', 'Violent', 'Adventure']\",\"['Strategy', 'Indie', 'Casual', 'Simulation']\",\"['Strategy', 'Indie', 'Casual']\",\"['Indie', 'Simulation', 'Racing']\"]]\n",
       "specs: [[\"['Single-player']\",\"['Single-player', 'Multi-player', 'Online Multi-Player', 'Cross-Platform Multiplayer', 'Steam Achievements', 'Steam Trading Cards', 'In-App Purchases']\",\"['Single-player', 'Multi-player', 'Online Multi-Player', 'In-App Purchases', 'Stats']\",\"['Single-player']\",\"['Single-player', 'Full controller support', 'HTC Vive', 'Oculus Rift', 'Tracked Motion Controllers', 'Room-Scale']\",...,\"['Single-player']\",\"['Single-player', 'Steam Achievements', 'Steam Cloud']\",\"['Single-player', 'Steam Achievements']\",\"['Single-player', 'Steam Achievements', 'Steam Cloud', 'Stats', 'Steam Leaderboards']\",\"['Single-player', 'Steam Achievements', 'Steam Trading Cards']\"]]\n",
       "price: [[4.99,0,0,0.99,2.99,...,0,1.99,1.99,4.99,1.99]]\n",
       "item_id: [[761140,643980,670290,767400,773570,...,769330,745400,773640,733530,610660]]\n",
       "developer: [[\"kotoshiro\",\"secret level srl\",\"poolians.com\",\"彼岸领域\",null,...,\"riviysky\",\"bidoniera games\",\"nikita \"ghost_rus\"\",\"sacada\",\"laush dmitriy sergeevich\"]]\n",
       "year: [[2018,2018,2017,2017,2016,...,2018,2018,2018,2018,2018]]\n",
       "Indie: [[1,1,1,0,0,...,1,1,1,1,0]]\n",
       "Action: [[1,0,0,1,0,...,0,0,0,0,0]]\n",
       "Casual: [[1,0,1,1,0,...,1,1,0,1,0]]\n",
       "..."
      ]
     },
     "execution_count": 5,
     "metadata": {},
     "output_type": "execute_result"
    }
   ],
   "source": [
    "# Ruta del PARQUET\n",
    "archivo_parquet = \"df_steam_games_cleaned.parquet\"\n",
    "\n",
    "# Carga el archivo Parquet\n",
    "tabla_parquet = pq.read_table(archivo_parquet)\n",
    "\n",
    "# Muestra las columnas de la tabla\n",
    "tabla_parquet"
   ]
  },
  {
   "cell_type": "code",
   "execution_count": null,
   "metadata": {},
   "outputs": [],
   "source": []
  }
 ],
 "metadata": {
  "kernelspec": {
   "display_name": "PI1",
   "language": "python",
   "name": "python3"
  },
  "language_info": {
   "codemirror_mode": {
    "name": "ipython",
    "version": 3
   },
   "file_extension": ".py",
   "mimetype": "text/x-python",
   "name": "python",
   "nbconvert_exporter": "python",
   "pygments_lexer": "ipython3",
   "version": "3.11.8"
  }
 },
 "nbformat": 4,
 "nbformat_minor": 2
}
