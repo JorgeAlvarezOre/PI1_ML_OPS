{
 "cells": [
  {
   "cell_type": "code",
   "execution_count": 34,
   "metadata": {},
   "outputs": [],
   "source": [
    "import json \n",
    "import pandas as pd\n",
    "import numpy as np \n",
    "import gdown\n",
    "from langdetect import detect \n",
    "import nltk\n",
    "from nltk.sentiment import SentimentIntensityAnalyzer"
   ]
  },
  {
   "cell_type": "code",
   "execution_count": 35,
   "metadata": {},
   "outputs": [
    {
     "name": "stderr",
     "output_type": "stream",
     "text": [
      "[nltk_data] Downloading package vader_lexicon to\n",
      "[nltk_data]     C:\\Users\\jalvarez\\AppData\\Roaming\\nltk_data...\n",
      "[nltk_data]   Package vader_lexicon is already up-to-date!\n"
     ]
    },
    {
     "data": {
      "text/plain": [
       "True"
      ]
     },
     "execution_count": 35,
     "metadata": {},
     "output_type": "execute_result"
    }
   ],
   "source": [
    "# Cargamos VADER, un analizador de sentimientos diseñado para textos sociales\n",
    "nltk.download('vader_lexicon')"
   ]
  },
  {
   "cell_type": "code",
   "execution_count": 36,
   "metadata": {},
   "outputs": [],
   "source": [
    "# Se cargan los archivos originales\n",
    "nombre_archivo = 'Orig/PI_ML_OPS-FT/Recursos/australian_user_reviews.json'\n",
    "\n",
    "# Se abre el archivo en modo lectura ('r') con codificación utf-8\n",
    "with open(nombre_archivo, 'r', encoding='utf-8') as archivo:\n",
    "    # Leer todas las líneas del archivo y almacenarlas en la lista 'datos'\n",
    "    datos = archivo.readlines()\n",
    "\n",
    "# Se convierten las líneas en registros utilizando eval y eliminando los espacios alrededor\n",
    "registros = [eval(line.strip()) for line in datos]\n",
    "\n",
    "# Se crea un DataFrame de pandas a partir de los registros\n",
    "df_UserReviews = pd.DataFrame(registros)"
   ]
  },
  {
   "cell_type": "code",
   "execution_count": 37,
   "metadata": {},
   "outputs": [
    {
     "data": {
      "text/html": [
       "<div>\n",
       "<style scoped>\n",
       "    .dataframe tbody tr th:only-of-type {\n",
       "        vertical-align: middle;\n",
       "    }\n",
       "\n",
       "    .dataframe tbody tr th {\n",
       "        vertical-align: top;\n",
       "    }\n",
       "\n",
       "    .dataframe thead th {\n",
       "        text-align: right;\n",
       "    }\n",
       "</style>\n",
       "<table border=\"1\" class=\"dataframe\">\n",
       "  <thead>\n",
       "    <tr style=\"text-align: right;\">\n",
       "      <th></th>\n",
       "      <th>user_id</th>\n",
       "      <th>user_url</th>\n",
       "      <th>reviews</th>\n",
       "    </tr>\n",
       "  </thead>\n",
       "  <tbody>\n",
       "    <tr>\n",
       "      <th>0</th>\n",
       "      <td>76561197970982479</td>\n",
       "      <td>http://steamcommunity.com/profiles/76561197970...</td>\n",
       "      <td>[{'funny': '', 'posted': 'Posted November 5, 2...</td>\n",
       "    </tr>\n",
       "    <tr>\n",
       "      <th>1</th>\n",
       "      <td>js41637</td>\n",
       "      <td>http://steamcommunity.com/id/js41637</td>\n",
       "      <td>[{'funny': '', 'posted': 'Posted June 24, 2014...</td>\n",
       "    </tr>\n",
       "    <tr>\n",
       "      <th>2</th>\n",
       "      <td>evcentric</td>\n",
       "      <td>http://steamcommunity.com/id/evcentric</td>\n",
       "      <td>[{'funny': '', 'posted': 'Posted February 3.',...</td>\n",
       "    </tr>\n",
       "    <tr>\n",
       "      <th>3</th>\n",
       "      <td>doctr</td>\n",
       "      <td>http://steamcommunity.com/id/doctr</td>\n",
       "      <td>[{'funny': '', 'posted': 'Posted October 14, 2...</td>\n",
       "    </tr>\n",
       "    <tr>\n",
       "      <th>4</th>\n",
       "      <td>maplemage</td>\n",
       "      <td>http://steamcommunity.com/id/maplemage</td>\n",
       "      <td>[{'funny': '3 people found this review funny',...</td>\n",
       "    </tr>\n",
       "  </tbody>\n",
       "</table>\n",
       "</div>"
      ],
      "text/plain": [
       "             user_id                                           user_url  \\\n",
       "0  76561197970982479  http://steamcommunity.com/profiles/76561197970...   \n",
       "1            js41637               http://steamcommunity.com/id/js41637   \n",
       "2          evcentric             http://steamcommunity.com/id/evcentric   \n",
       "3              doctr                 http://steamcommunity.com/id/doctr   \n",
       "4          maplemage             http://steamcommunity.com/id/maplemage   \n",
       "\n",
       "                                             reviews  \n",
       "0  [{'funny': '', 'posted': 'Posted November 5, 2...  \n",
       "1  [{'funny': '', 'posted': 'Posted June 24, 2014...  \n",
       "2  [{'funny': '', 'posted': 'Posted February 3.',...  \n",
       "3  [{'funny': '', 'posted': 'Posted October 14, 2...  \n",
       "4  [{'funny': '3 people found this review funny',...  "
      ]
     },
     "execution_count": 37,
     "metadata": {},
     "output_type": "execute_result"
    }
   ],
   "source": [
    "df_UserReviews.head()"
   ]
  },
  {
   "cell_type": "code",
   "execution_count": 38,
   "metadata": {},
   "outputs": [
    {
     "name": "stdout",
     "output_type": "stream",
     "text": [
      "<class 'pandas.core.frame.DataFrame'>\n",
      "RangeIndex: 25799 entries, 0 to 25798\n",
      "Data columns (total 3 columns):\n",
      " #   Column    Non-Null Count  Dtype \n",
      "---  ------    --------------  ----- \n",
      " 0   user_id   25799 non-null  object\n",
      " 1   user_url  25799 non-null  object\n",
      " 2   reviews   25799 non-null  object\n",
      "dtypes: object(3)\n",
      "memory usage: 604.8+ KB\n"
     ]
    }
   ],
   "source": [
    "df_UserReviews.info()"
   ]
  },
  {
   "cell_type": "code",
   "execution_count": 39,
   "metadata": {},
   "outputs": [],
   "source": [
    "# Definición de la función 'data_processor' que transforma un DataFrame 'df'.\n",
    "# Esta función toma 'df', una lista de 'columnas' y una 'columna_target' como entrada.\n",
    "# la columna target hace alución a la columna que contenga los datos anidados\n",
    "def data_processor(df, columnas, columna_target):\n",
    "    \n",
    "    # Inicializa una lista vacía llamada 'lista_dics_datos' para almacenar los datos transformados.\n",
    "    lista_dics_datos = []\n",
    "    \n",
    "    # Itera a través de las filas del DataFrame 'df'.\n",
    "    for _, row in df.iterrows():\n",
    "        \n",
    "        # Extrae el 'user_id' de la fila actual.\n",
    "        user_id = row['user_id']\n",
    "        \n",
    "        # Inicializa las variables 'steam_id' y 'items_count' con valores predeterminados.\n",
    "        steam_id = 'steam_id'\n",
    "        items_count = 'items_count'\n",
    "        \n",
    "        # Extrae el 'user_url' de la fila actual.\n",
    "        user_url = row['user_url']\n",
    "        \n",
    "        # Inicializa la variable 'items' en 'False'.\n",
    "        items = False\n",
    "        \n",
    "        # Verifica si las columnas 'steam_id' y 'items_count' están en el DataFrame 'df'(para diferenciar cual de los dos dfs esta procesando).\n",
    "        # Si están presentes, actualiza 'steam_id' y 'items_count' y establece 'items' en 'True' que confirma que se trata del dataframe df_items.\n",
    "        if steam_id in df.columns and items_count in df.columns:\n",
    "            steam_id = row['steam_id']\n",
    "            items_count = row['items_count']\n",
    "            items = True \n",
    "            \n",
    "        # Itera a través de los elementos en la columna especificada por 'columna_target'.\n",
    "        for elemento in row[columna_target]:\n",
    "            \n",
    "            # Crea un nuevo diccionario 'elemento_data' que contiene la información de la fila actual.\n",
    "            elemento_data = elemento.copy()\n",
    "            \n",
    "            # Agrega información adicional al diccionario 'elemento_data'.\n",
    "            elemento_data['user_id'] = user_id\n",
    "            elemento_data['user_url'] = user_url\n",
    "            \n",
    "            # Si 'items' es 'True', agrega 'steam_id' y 'items_count' al diccionario 'elemento_data'.\n",
    "            if items:\n",
    "                elemento_data['steam_id'] = steam_id\n",
    "                elemento_data['items_count'] = items_count\n",
    "                      \n",
    "            # Agrega el diccionario 'review_data' a la lista 'listadatos'.\n",
    "            lista_dics_datos.append(elemento_data)\n",
    "\n",
    "    # Crea un nuevo DataFrame 'df_limpio' a partir de la lista 'lista_dics_datos'\n",
    "    # utilizando las columnas especificadas en 'columnas'.\n",
    "    df_limpio = pd.DataFrame(lista_dics_datos, columns=columnas)\n",
    "    \n",
    "    # Devuelve el nuevo DataFrame 'df_limpio'.\n",
    "    return df_limpio"
   ]
  },
  {
   "cell_type": "code",
   "execution_count": 40,
   "metadata": {},
   "outputs": [],
   "source": [
    "columnas_review = ['user_id','user_url', 'item_id', 'funny', 'posted', 'last_edited', 'helpful', 'recommend', 'review']\n",
    "df_UserReviews = data_processor(df_UserReviews, columnas_review, 'reviews')"
   ]
  },
  {
   "cell_type": "code",
   "execution_count": 41,
   "metadata": {},
   "outputs": [
    {
     "data": {
      "text/html": [
       "<div>\n",
       "<style scoped>\n",
       "    .dataframe tbody tr th:only-of-type {\n",
       "        vertical-align: middle;\n",
       "    }\n",
       "\n",
       "    .dataframe tbody tr th {\n",
       "        vertical-align: top;\n",
       "    }\n",
       "\n",
       "    .dataframe thead th {\n",
       "        text-align: right;\n",
       "    }\n",
       "</style>\n",
       "<table border=\"1\" class=\"dataframe\">\n",
       "  <thead>\n",
       "    <tr style=\"text-align: right;\">\n",
       "      <th></th>\n",
       "      <th>user_id</th>\n",
       "      <th>user_url</th>\n",
       "      <th>item_id</th>\n",
       "      <th>funny</th>\n",
       "      <th>posted</th>\n",
       "      <th>last_edited</th>\n",
       "      <th>helpful</th>\n",
       "      <th>recommend</th>\n",
       "      <th>review</th>\n",
       "    </tr>\n",
       "  </thead>\n",
       "  <tbody>\n",
       "    <tr>\n",
       "      <th>0</th>\n",
       "      <td>76561197970982479</td>\n",
       "      <td>http://steamcommunity.com/profiles/76561197970...</td>\n",
       "      <td>1250</td>\n",
       "      <td></td>\n",
       "      <td>Posted November 5, 2011.</td>\n",
       "      <td></td>\n",
       "      <td>No ratings yet</td>\n",
       "      <td>True</td>\n",
       "      <td>Simple yet with great replayability. In my opi...</td>\n",
       "    </tr>\n",
       "    <tr>\n",
       "      <th>1</th>\n",
       "      <td>76561197970982479</td>\n",
       "      <td>http://steamcommunity.com/profiles/76561197970...</td>\n",
       "      <td>22200</td>\n",
       "      <td></td>\n",
       "      <td>Posted July 15, 2011.</td>\n",
       "      <td></td>\n",
       "      <td>No ratings yet</td>\n",
       "      <td>True</td>\n",
       "      <td>It's unique and worth a playthrough.</td>\n",
       "    </tr>\n",
       "    <tr>\n",
       "      <th>2</th>\n",
       "      <td>76561197970982479</td>\n",
       "      <td>http://steamcommunity.com/profiles/76561197970...</td>\n",
       "      <td>43110</td>\n",
       "      <td></td>\n",
       "      <td>Posted April 21, 2011.</td>\n",
       "      <td></td>\n",
       "      <td>No ratings yet</td>\n",
       "      <td>True</td>\n",
       "      <td>Great atmosphere. The gunplay can be a bit chu...</td>\n",
       "    </tr>\n",
       "    <tr>\n",
       "      <th>3</th>\n",
       "      <td>js41637</td>\n",
       "      <td>http://steamcommunity.com/id/js41637</td>\n",
       "      <td>251610</td>\n",
       "      <td></td>\n",
       "      <td>Posted June 24, 2014.</td>\n",
       "      <td></td>\n",
       "      <td>15 of 20 people (75%) found this review helpful</td>\n",
       "      <td>True</td>\n",
       "      <td>I know what you think when you see this title ...</td>\n",
       "    </tr>\n",
       "    <tr>\n",
       "      <th>4</th>\n",
       "      <td>js41637</td>\n",
       "      <td>http://steamcommunity.com/id/js41637</td>\n",
       "      <td>227300</td>\n",
       "      <td></td>\n",
       "      <td>Posted September 8, 2013.</td>\n",
       "      <td></td>\n",
       "      <td>0 of 1 people (0%) found this review helpful</td>\n",
       "      <td>True</td>\n",
       "      <td>For a simple (it's actually not all that simpl...</td>\n",
       "    </tr>\n",
       "  </tbody>\n",
       "</table>\n",
       "</div>"
      ],
      "text/plain": [
       "             user_id                                           user_url  \\\n",
       "0  76561197970982479  http://steamcommunity.com/profiles/76561197970...   \n",
       "1  76561197970982479  http://steamcommunity.com/profiles/76561197970...   \n",
       "2  76561197970982479  http://steamcommunity.com/profiles/76561197970...   \n",
       "3            js41637               http://steamcommunity.com/id/js41637   \n",
       "4            js41637               http://steamcommunity.com/id/js41637   \n",
       "\n",
       "  item_id funny                     posted last_edited  \\\n",
       "0    1250         Posted November 5, 2011.               \n",
       "1   22200            Posted July 15, 2011.               \n",
       "2   43110           Posted April 21, 2011.               \n",
       "3  251610            Posted June 24, 2014.               \n",
       "4  227300        Posted September 8, 2013.               \n",
       "\n",
       "                                           helpful  recommend  \\\n",
       "0                                   No ratings yet       True   \n",
       "1                                   No ratings yet       True   \n",
       "2                                   No ratings yet       True   \n",
       "3  15 of 20 people (75%) found this review helpful       True   \n",
       "4     0 of 1 people (0%) found this review helpful       True   \n",
       "\n",
       "                                              review  \n",
       "0  Simple yet with great replayability. In my opi...  \n",
       "1               It's unique and worth a playthrough.  \n",
       "2  Great atmosphere. The gunplay can be a bit chu...  \n",
       "3  I know what you think when you see this title ...  \n",
       "4  For a simple (it's actually not all that simpl...  "
      ]
     },
     "execution_count": 41,
     "metadata": {},
     "output_type": "execute_result"
    }
   ],
   "source": [
    "df_UserReviews.head()"
   ]
  },
  {
   "cell_type": "code",
   "execution_count": 42,
   "metadata": {},
   "outputs": [
    {
     "name": "stdout",
     "output_type": "stream",
     "text": [
      "<class 'pandas.core.frame.DataFrame'>\n",
      "RangeIndex: 59305 entries, 0 to 59304\n",
      "Data columns (total 9 columns):\n",
      " #   Column       Non-Null Count  Dtype \n",
      "---  ------       --------------  ----- \n",
      " 0   user_id      59305 non-null  object\n",
      " 1   user_url     59305 non-null  object\n",
      " 2   item_id      59305 non-null  object\n",
      " 3   funny        59305 non-null  object\n",
      " 4   posted       59305 non-null  object\n",
      " 5   last_edited  59305 non-null  object\n",
      " 6   helpful      59305 non-null  object\n",
      " 7   recommend    59305 non-null  bool  \n",
      " 8   review       59305 non-null  object\n",
      "dtypes: bool(1), object(8)\n",
      "memory usage: 3.7+ MB\n"
     ]
    }
   ],
   "source": [
    "df_UserReviews.info()"
   ]
  },
  {
   "cell_type": "code",
   "execution_count": 43,
   "metadata": {},
   "outputs": [
    {
     "name": "stdout",
     "output_type": "stream",
     "text": [
      "user_id        0\n",
      "user_url       0\n",
      "item_id        0\n",
      "funny          0\n",
      "posted         0\n",
      "last_edited    0\n",
      "helpful        0\n",
      "recommend      0\n",
      "review         0\n",
      "dtype: int64\n"
     ]
    }
   ],
   "source": [
    "# Se verifica cuántos valores nulos hay por columnas\n",
    "valores_nulos_por_columna = df_UserReviews.isnull().sum()\n",
    "print(valores_nulos_por_columna)\n",
    "\n",
    "# Se reemplazan valores vacíos, 'null' y 'None' con NaN en todo el DataFrame\n",
    "df_UserReviews.replace(['', 'null', 'None'], np.nan, inplace=True)"
   ]
  },
  {
   "cell_type": "code",
   "execution_count": 44,
   "metadata": {},
   "outputs": [
    {
     "name": "stdout",
     "output_type": "stream",
     "text": [
      "user_id            0\n",
      "user_url           0\n",
      "item_id            0\n",
      "funny          51154\n",
      "posted             0\n",
      "last_edited    53165\n",
      "helpful            0\n",
      "recommend          0\n",
      "review            30\n",
      "dtype: int64\n"
     ]
    }
   ],
   "source": [
    "# Se verifica cuántos valores nulos hay por columnas\n",
    "valores_nulos_por_columna = df_UserReviews.isnull().sum()\n",
    "print(valores_nulos_por_columna)"
   ]
  },
  {
   "cell_type": "code",
   "execution_count": 45,
   "metadata": {},
   "outputs": [
    {
     "data": {
      "text/html": [
       "<div>\n",
       "<style scoped>\n",
       "    .dataframe tbody tr th:only-of-type {\n",
       "        vertical-align: middle;\n",
       "    }\n",
       "\n",
       "    .dataframe tbody tr th {\n",
       "        vertical-align: top;\n",
       "    }\n",
       "\n",
       "    .dataframe thead th {\n",
       "        text-align: right;\n",
       "    }\n",
       "</style>\n",
       "<table border=\"1\" class=\"dataframe\">\n",
       "  <thead>\n",
       "    <tr style=\"text-align: right;\">\n",
       "      <th></th>\n",
       "      <th>user_id</th>\n",
       "      <th>user_url</th>\n",
       "      <th>item_id</th>\n",
       "      <th>funny</th>\n",
       "      <th>posted</th>\n",
       "      <th>last_edited</th>\n",
       "      <th>helpful</th>\n",
       "      <th>recommend</th>\n",
       "      <th>review</th>\n",
       "    </tr>\n",
       "  </thead>\n",
       "  <tbody>\n",
       "  </tbody>\n",
       "</table>\n",
       "</div>"
      ],
      "text/plain": [
       "Empty DataFrame\n",
       "Columns: [user_id, user_url, item_id, funny, posted, last_edited, helpful, recommend, review]\n",
       "Index: []"
      ]
     },
     "execution_count": 45,
     "metadata": {},
     "output_type": "execute_result"
    }
   ],
   "source": [
    "# Filas donde todas las columnas especificadas tienen valores nulos.\n",
    "columnas_a_considerar = ['posted', 'recommend', 'review']\n",
    "filas_con_nulos = df_UserReviews[df_UserReviews[columnas_a_considerar].isnull().all(axis=1)]\n",
    "filas_con_nulos"
   ]
  },
  {
   "cell_type": "code",
   "execution_count": 46,
   "metadata": {},
   "outputs": [],
   "source": [
    "# Se eliminan las columnas 'helpful' y 'user_url' por considerarse no relevantes, \n",
    "# y las columnas 'funny' y 'last_edited' por tener la mayoria de datos faltantes\n",
    "df_UserReviews.drop(['helpful', 'user_url', 'funny','last_edited'], axis=1, inplace=True)"
   ]
  },
  {
   "cell_type": "code",
   "execution_count": 47,
   "metadata": {},
   "outputs": [
    {
     "data": {
      "text/plain": [
       "user_id      1736\n",
       "item_id      1736\n",
       "posted       1736\n",
       "recommend    1736\n",
       "review       1736\n",
       "dtype: int64"
      ]
     },
     "execution_count": 47,
     "metadata": {},
     "output_type": "execute_result"
    }
   ],
   "source": [
    "# Se buscan registros duplicados\n",
    "df_UserReviews.sort_values('user_id')\n",
    "duplicados = df_UserReviews[df_UserReviews.duplicated(subset=['user_id', 'item_id', 'posted', 'review'], keep=False)]\n",
    "duplicados.count()"
   ]
  },
  {
   "cell_type": "code",
   "execution_count": 48,
   "metadata": {},
   "outputs": [
    {
     "name": "stdout",
     "output_type": "stream",
     "text": [
      "Cantidad total de registros duplicados eliminados: 1736\n"
     ]
    }
   ],
   "source": [
    "# Se eliminan los registros duplicados basándome en múltiples columnas \n",
    "df_UserReviews.drop_duplicates(subset=['user_id', 'item_id', 'posted', 'review'], keep=False, inplace=True)\n",
    "\n",
    "cantidad_total_duplicados_eliminados = duplicados.shape[0]\n",
    "\n",
    "print(\"Cantidad total de registros duplicados eliminados:\", cantidad_total_duplicados_eliminados)"
   ]
  },
  {
   "cell_type": "code",
   "execution_count": 49,
   "metadata": {},
   "outputs": [
    {
     "name": "stdout",
     "output_type": "stream",
     "text": [
      "Nulos después de la conversión a datetime:\n",
      "9753\n"
     ]
    }
   ],
   "source": [
    "# Se convierte 'posted' a tipo datetime\n",
    "df_UserReviews['posted'] = pd.to_datetime(df_UserReviews['posted'].astype(str).str.replace(r'Posted |,|\\.', '', regex=True), errors='coerce')\n",
    "\n",
    "# Se crea la columna 'year' a partir de 'posted'\n",
    "df_UserReviews['year'] = df_UserReviews['posted'].dt.year.astype('Int64')\n",
    "\n",
    "# Se ordena el DataFrame por 'item_id' y 'year' para asegurar que la interpolación se haga correctamente\n",
    "df_UserReviews = df_UserReviews.sort_values(['item_id', 'year'])\n",
    "\n",
    "# Se imprime información sobre nulos en 'year' después de la conversión\n",
    "print(\"Nulos después de la conversión a datetime:\")\n",
    "print(df_UserReviews['year'].isnull().sum())"
   ]
  },
  {
   "cell_type": "code",
   "execution_count": 50,
   "metadata": {},
   "outputs": [
    {
     "name": "stdout",
     "output_type": "stream",
     "text": [
      "Tipo de dato de 'posted': datetime64[ns]\n"
     ]
    }
   ],
   "source": [
    "tipo_dato_posted = df_UserReviews['posted'].dtype\n",
    "\n",
    "print(\"Tipo de dato de 'posted':\", tipo_dato_posted)"
   ]
  },
  {
   "cell_type": "code",
   "execution_count": 51,
   "metadata": {},
   "outputs": [
    {
     "name": "stderr",
     "output_type": "stream",
     "text": [
      "C:\\Users\\jalvarez\\AppData\\Local\\Temp\\ipykernel_27808\\496998528.py:2: FutureWarning: Series.interpolate with method=pad is deprecated and will raise in a future version. Use obj.ffill() or obj.bfill() instead.\n",
      "  df_UserReviews['year'] = df_UserReviews.groupby('item_id', group_keys=False)['year'].apply(lambda group: group.interpolate(method='pad') if group.notna().any() else group)\n"
     ]
    },
    {
     "name": "stdout",
     "output_type": "stream",
     "text": [
      "Hay valores nulos en la columna 'year'.\n"
     ]
    }
   ],
   "source": [
    "# Rellenamos valores nulos en 'year' mediante interpolación lineal por grupo (item_id)\n",
    "df_UserReviews['year'] = df_UserReviews.groupby('item_id', group_keys=False)['year'].apply(lambda group: group.interpolate(method='pad') if group.notna().any() else group)\n",
    "\n",
    "# Verificamos si hay valores nulos en la columna 'year'\n",
    "hay_nulos_en_year = df_UserReviews['year'].isnull().any()\n",
    "\n",
    "if hay_nulos_en_year:\n",
    "    print(\"Hay valores nulos en la columna 'year'.\")\n",
    "else:\n",
    "    print(\"No hay valores nulos en la columna 'year'.\")\n"
   ]
  },
  {
   "cell_type": "code",
   "execution_count": 52,
   "metadata": {},
   "outputs": [],
   "source": [
    "# Aún hay valores nulos después de la interpolación, se llenan con la mediana. \n",
    "df_UserReviews['year'] = df_UserReviews['year'].fillna(df_UserReviews['year'].median())"
   ]
  },
  {
   "cell_type": "code",
   "execution_count": 53,
   "metadata": {},
   "outputs": [
    {
     "name": "stdout",
     "output_type": "stream",
     "text": [
      "No hay valores nulos en la columna 'year'.\n"
     ]
    }
   ],
   "source": [
    "# Volvemos a verificar si hay valores nulos en la columna 'year'\n",
    "hay_nulos_en_year = df_UserReviews['year'].isnull().any()\n",
    "\n",
    "if hay_nulos_en_year:\n",
    "    print(\"Hay valores nulos en la columna 'year'.\")\n",
    "else:\n",
    "    print(\"No hay valores nulos en la columna 'year'.\")"
   ]
  },
  {
   "cell_type": "code",
   "execution_count": 54,
   "metadata": {},
   "outputs": [
    {
     "data": {
      "text/html": [
       "<div>\n",
       "<style scoped>\n",
       "    .dataframe tbody tr th:only-of-type {\n",
       "        vertical-align: middle;\n",
       "    }\n",
       "\n",
       "    .dataframe tbody tr th {\n",
       "        vertical-align: top;\n",
       "    }\n",
       "\n",
       "    .dataframe thead th {\n",
       "        text-align: right;\n",
       "    }\n",
       "</style>\n",
       "<table border=\"1\" class=\"dataframe\">\n",
       "  <thead>\n",
       "    <tr style=\"text-align: right;\">\n",
       "      <th></th>\n",
       "      <th>user_id</th>\n",
       "      <th>item_id</th>\n",
       "      <th>recommend</th>\n",
       "      <th>review</th>\n",
       "      <th>year</th>\n",
       "    </tr>\n",
       "  </thead>\n",
       "  <tbody>\n",
       "    <tr>\n",
       "      <th>5331</th>\n",
       "      <td>76561198040188061</td>\n",
       "      <td>10</td>\n",
       "      <td>True</td>\n",
       "      <td>this game is the 1# online action game is awes...</td>\n",
       "      <td>2011</td>\n",
       "    </tr>\n",
       "    <tr>\n",
       "      <th>22702</th>\n",
       "      <td>maddoxx789</td>\n",
       "      <td>10</td>\n",
       "      <td>True</td>\n",
       "      <td>GYERTEK GAMELNI MINDENKI ITT VAN AKI SZÁMIT !!...</td>\n",
       "      <td>2012</td>\n",
       "    </tr>\n",
       "    <tr>\n",
       "      <th>35539</th>\n",
       "      <td>mixadance</td>\n",
       "      <td>10</td>\n",
       "      <td>True</td>\n",
       "      <td>:D</td>\n",
       "      <td>2012</td>\n",
       "    </tr>\n",
       "    <tr>\n",
       "      <th>43134</th>\n",
       "      <td>waspish</td>\n",
       "      <td>10</td>\n",
       "      <td>True</td>\n",
       "      <td>Good Game :D</td>\n",
       "      <td>2012</td>\n",
       "    </tr>\n",
       "    <tr>\n",
       "      <th>24137</th>\n",
       "      <td>76561198001699914</td>\n",
       "      <td>10</td>\n",
       "      <td>True</td>\n",
       "      <td>jueguenlooooooo</td>\n",
       "      <td>2013</td>\n",
       "    </tr>\n",
       "  </tbody>\n",
       "</table>\n",
       "</div>"
      ],
      "text/plain": [
       "                 user_id item_id  recommend  \\\n",
       "5331   76561198040188061      10       True   \n",
       "22702         maddoxx789      10       True   \n",
       "35539          mixadance      10       True   \n",
       "43134            waspish      10       True   \n",
       "24137  76561198001699914      10       True   \n",
       "\n",
       "                                                  review  year  \n",
       "5331   this game is the 1# online action game is awes...  2011  \n",
       "22702  GYERTEK GAMELNI MINDENKI ITT VAN AKI SZÁMIT !!...  2012  \n",
       "35539                                                 :D  2012  \n",
       "43134                                       Good Game :D  2012  \n",
       "24137                                    jueguenlooooooo  2013  "
      ]
     },
     "execution_count": 54,
     "metadata": {},
     "output_type": "execute_result"
    }
   ],
   "source": [
    "# Se elimina la columna 'posted' ya que no es de utilidad\n",
    "df_UserReviews.drop(['posted'], axis=1, inplace=True)\n",
    "df_UserReviews.head()"
   ]
  },
  {
   "cell_type": "code",
   "execution_count": 55,
   "metadata": {},
   "outputs": [
    {
     "data": {
      "text/html": [
       "<div>\n",
       "<style scoped>\n",
       "    .dataframe tbody tr th:only-of-type {\n",
       "        vertical-align: middle;\n",
       "    }\n",
       "\n",
       "    .dataframe tbody tr th {\n",
       "        vertical-align: top;\n",
       "    }\n",
       "\n",
       "    .dataframe thead th {\n",
       "        text-align: right;\n",
       "    }\n",
       "</style>\n",
       "<table border=\"1\" class=\"dataframe\">\n",
       "  <thead>\n",
       "    <tr style=\"text-align: right;\">\n",
       "      <th></th>\n",
       "      <th>Conteo</th>\n",
       "      <th>Porcentaje</th>\n",
       "    </tr>\n",
       "    <tr>\n",
       "      <th>language</th>\n",
       "      <th></th>\n",
       "      <th></th>\n",
       "    </tr>\n",
       "  </thead>\n",
       "  <tbody>\n",
       "    <tr>\n",
       "      <th>en</th>\n",
       "      <td>44428</td>\n",
       "      <td>77.92%</td>\n",
       "    </tr>\n",
       "    <tr>\n",
       "      <th>pt</th>\n",
       "      <td>2122</td>\n",
       "      <td>3.72%</td>\n",
       "    </tr>\n",
       "    <tr>\n",
       "      <th>es</th>\n",
       "      <td>1235</td>\n",
       "      <td>2.17%</td>\n",
       "    </tr>\n",
       "    <tr>\n",
       "      <th>de</th>\n",
       "      <td>1116</td>\n",
       "      <td>1.96%</td>\n",
       "    </tr>\n",
       "    <tr>\n",
       "      <th>so</th>\n",
       "      <td>1003</td>\n",
       "      <td>1.76%</td>\n",
       "    </tr>\n",
       "  </tbody>\n",
       "</table>\n",
       "</div>"
      ],
      "text/plain": [
       "          Conteo Porcentaje\n",
       "language                   \n",
       "en         44428     77.92%\n",
       "pt          2122      3.72%\n",
       "es          1235      2.17%\n",
       "de          1116      1.96%\n",
       "so          1003      1.76%"
      ]
     },
     "execution_count": 55,
     "metadata": {},
     "output_type": "execute_result"
    }
   ],
   "source": [
    "# Análisis de texto para determinar el idioma de las reseñas\n",
    "def detectar_idioma(texto):\n",
    "    try:\n",
    "       return detect(texto)\n",
    "    except:\n",
    "        return None\n",
    "\n",
    "# Se crea una nueva columna 'idioma', aplicando la funcion a la columna 'review'    \n",
    "df_UserReviews['language']=df_UserReviews['review'].apply(detectar_idioma)\n",
    "\n",
    "# Se calcula el conteo y porcentaje de cada idioma\n",
    "conteo_por_idioma = df_UserReviews['language'].value_counts()\n",
    "porcentaje_por_idioma = df_UserReviews['language'].value_counts(normalize=True) * 100\n",
    "\n",
    "# Se crea un nuevo DataFrame con el conteo y porcentaje\n",
    "conteo_porcentaje_idiomas = pd.DataFrame({\n",
    "    'Conteo': conteo_por_idioma,\n",
    "    'Porcentaje': porcentaje_por_idioma.round(2).astype(str) + '%'\n",
    "})\n",
    "\n",
    "# Se ordena el dataframe por el conteo de mayor a menor  \n",
    "conteo_porcentaje_idiomas=conteo_porcentaje_idiomas.sort_values(by='Conteo',ascending=False)\n",
    "conteo_porcentaje_idiomas.head()"
   ]
  },
  {
   "cell_type": "code",
   "execution_count": 56,
   "metadata": {},
   "outputs": [
    {
     "data": {
      "text/html": [
       "<div>\n",
       "<style scoped>\n",
       "    .dataframe tbody tr th:only-of-type {\n",
       "        vertical-align: middle;\n",
       "    }\n",
       "\n",
       "    .dataframe tbody tr th {\n",
       "        vertical-align: top;\n",
       "    }\n",
       "\n",
       "    .dataframe thead th {\n",
       "        text-align: right;\n",
       "    }\n",
       "</style>\n",
       "<table border=\"1\" class=\"dataframe\">\n",
       "  <thead>\n",
       "    <tr style=\"text-align: right;\">\n",
       "      <th></th>\n",
       "      <th>Idioma</th>\n",
       "      <th>Conteo</th>\n",
       "      <th>Porcentaje</th>\n",
       "    </tr>\n",
       "  </thead>\n",
       "  <tbody>\n",
       "    <tr>\n",
       "      <th>0</th>\n",
       "      <td>Inglés</td>\n",
       "      <td>44428</td>\n",
       "      <td>77.17</td>\n",
       "    </tr>\n",
       "    <tr>\n",
       "      <th>1</th>\n",
       "      <td>Portugués</td>\n",
       "      <td>2122</td>\n",
       "      <td>3.69</td>\n",
       "    </tr>\n",
       "    <tr>\n",
       "      <th>2</th>\n",
       "      <td>Español</td>\n",
       "      <td>1235</td>\n",
       "      <td>2.15</td>\n",
       "    </tr>\n",
       "    <tr>\n",
       "      <th>3</th>\n",
       "      <td>Alemán</td>\n",
       "      <td>1116</td>\n",
       "      <td>1.94</td>\n",
       "    </tr>\n",
       "    <tr>\n",
       "      <th>4</th>\n",
       "      <td>Somalí</td>\n",
       "      <td>1003</td>\n",
       "      <td>1.74</td>\n",
       "    </tr>\n",
       "  </tbody>\n",
       "</table>\n",
       "</div>"
      ],
      "text/plain": [
       "      Idioma  Conteo  Porcentaje\n",
       "0     Inglés   44428       77.17\n",
       "1  Portugués    2122        3.69\n",
       "2    Español    1235        2.15\n",
       "3     Alemán    1116        1.94\n",
       "4     Somalí    1003        1.74"
      ]
     },
     "execution_count": 56,
     "metadata": {},
     "output_type": "execute_result"
    }
   ],
   "source": [
    "# Mapeo de códigos de idioma a nombres completos para el análisis de idiomas (top 5)\n",
    "nombres_completos={\n",
    "    'en': 'Inglés',\n",
    "    'pt': 'Portugués',\n",
    "    'es': 'Español',\n",
    "    'de': 'Alemán',\n",
    "    'so': 'Somalí',\n",
    "}\n",
    "\n",
    "# Se aplica el mapeo al DataFrame\n",
    "df_UserReviews['idioma_completo'] = df_UserReviews['language'].map(nombres_completos)\n",
    "\n",
    "# Se crea un DataFrame con el resumen de idiomas\n",
    "idiomas_top5 = df_UserReviews['idioma_completo'].value_counts().reset_index()\n",
    "idiomas_top5.columns = ['Idioma', 'Conteo']\n",
    "idiomas_top5['Conteo'] = idiomas_top5['Conteo'].round(2)\n",
    "\n",
    "# Se calcula el porcentaje\n",
    "idiomas_top5['Porcentaje'] = (idiomas_top5['Conteo'] / len(df_UserReviews)) * 100 \n",
    "idiomas_top5['Porcentaje'] = idiomas_top5['Porcentaje'].round(2)\n",
    "idiomas_top5.head()"
   ]
  },
  {
   "cell_type": "code",
   "execution_count": 57,
   "metadata": {},
   "outputs": [],
   "source": [
    "# Se selecciona las filas donde el idioma es 'ingles'\n",
    "df_UserReviews = df_UserReviews.query(\"idioma_completo == 'Inglés'\")\n",
    "\n",
    "# Se borra la columna 'idioma_completo'\n",
    "df_UserReviews = df_UserReviews.drop('idioma_completo', axis=1)"
   ]
  },
  {
   "cell_type": "code",
   "execution_count": 58,
   "metadata": {},
   "outputs": [],
   "source": [
    "# Se convierten todas las letras a minúsculas para asegurar que todas las palabras sean tratadas de la misma manera.\n",
    "df_UserReviews.loc[:, 'review'] = df_UserReviews['review'].str.lower()\n",
    "\n",
    "# Eliminación de caracteres especiales(excepto Alfanuméricos y Espacios)\n",
    "df_UserReviews.loc[:,'review'] = df_UserReviews['review'].replace('[^A-Za-z0-9\\s]+', '', regex=True)\n",
    "\n",
    "# Se elimina caracteres de puntuación que no aportan al análisis de sentimiento.\n",
    "df_UserReviews.loc[:, 'review'] = df_UserReviews['review'].str.replace('[^\\w\\s]', '', regex=True)"
   ]
  },
  {
   "cell_type": "code",
   "execution_count": 59,
   "metadata": {},
   "outputs": [
    {
     "data": {
      "text/html": [
       "<div>\n",
       "<style scoped>\n",
       "    .dataframe tbody tr th:only-of-type {\n",
       "        vertical-align: middle;\n",
       "    }\n",
       "\n",
       "    .dataframe tbody tr th {\n",
       "        vertical-align: top;\n",
       "    }\n",
       "\n",
       "    .dataframe thead th {\n",
       "        text-align: right;\n",
       "    }\n",
       "</style>\n",
       "<table border=\"1\" class=\"dataframe\">\n",
       "  <thead>\n",
       "    <tr style=\"text-align: right;\">\n",
       "      <th></th>\n",
       "      <th>user_id</th>\n",
       "      <th>item_id</th>\n",
       "      <th>recommend</th>\n",
       "      <th>review</th>\n",
       "      <th>year</th>\n",
       "      <th>language</th>\n",
       "    </tr>\n",
       "  </thead>\n",
       "  <tbody>\n",
       "    <tr>\n",
       "      <th>5331</th>\n",
       "      <td>76561198040188061</td>\n",
       "      <td>10</td>\n",
       "      <td>True</td>\n",
       "      <td>this game is the 1 online action game is aweso...</td>\n",
       "      <td>2011</td>\n",
       "      <td>en</td>\n",
       "    </tr>\n",
       "    <tr>\n",
       "      <th>45506</th>\n",
       "      <td>epic_doom</td>\n",
       "      <td>10</td>\n",
       "      <td>True</td>\n",
       "      <td>the og to csgo</td>\n",
       "      <td>2013</td>\n",
       "      <td>en</td>\n",
       "    </tr>\n",
       "    <tr>\n",
       "      <th>7801</th>\n",
       "      <td>mayshowganmore</td>\n",
       "      <td>10</td>\n",
       "      <td>True</td>\n",
       "      <td>the best fps game</td>\n",
       "      <td>2014</td>\n",
       "      <td>en</td>\n",
       "    </tr>\n",
       "    <tr>\n",
       "      <th>7967</th>\n",
       "      <td>BestinTheWorldThund3r</td>\n",
       "      <td>10</td>\n",
       "      <td>True</td>\n",
       "      <td>one of the best childhood games i have ever pl...</td>\n",
       "      <td>2014</td>\n",
       "      <td>en</td>\n",
       "    </tr>\n",
       "    <tr>\n",
       "      <th>8519</th>\n",
       "      <td>76561198072207162</td>\n",
       "      <td>10</td>\n",
       "      <td>True</td>\n",
       "      <td>people still play this siq game</td>\n",
       "      <td>2014</td>\n",
       "      <td>en</td>\n",
       "    </tr>\n",
       "  </tbody>\n",
       "</table>\n",
       "</div>"
      ],
      "text/plain": [
       "                     user_id item_id  recommend  \\\n",
       "5331       76561198040188061      10       True   \n",
       "45506              epic_doom      10       True   \n",
       "7801          mayshowganmore      10       True   \n",
       "7967   BestinTheWorldThund3r      10       True   \n",
       "8519       76561198072207162      10       True   \n",
       "\n",
       "                                                  review  year language  \n",
       "5331   this game is the 1 online action game is aweso...  2011       en  \n",
       "45506                                     the og to csgo  2013       en  \n",
       "7801                                   the best fps game  2014       en  \n",
       "7967   one of the best childhood games i have ever pl...  2014       en  \n",
       "8519                     people still play this siq game  2014       en  "
      ]
     },
     "execution_count": 59,
     "metadata": {},
     "output_type": "execute_result"
    }
   ],
   "source": [
    "df_UserReviews.head()"
   ]
  },
  {
   "cell_type": "code",
   "execution_count": 60,
   "metadata": {},
   "outputs": [],
   "source": [
    "def analyze_sentiments(df):\n",
    "    \n",
    "    # Se instancia el analizador de sentimientos\n",
    "    sia = SentimentIntensityAnalyzer()\n",
    "\n",
    "    # Se aplica el análisis de sentimientos y asignar valores numéricos\n",
    "    df['compound_score'] = df['review'].apply(lambda review: sia.polarity_scores(review)['compound'])\n",
    "    df['sentiment_analysis'] = df['compound_score'].apply(lambda score: 0 if score < 0 else (1 if score == 0 else 2))\n",
    "\n",
    "    # Conteo de reviews por score\n",
    "    conteo_por_score = df['sentiment_analysis'].value_counts()\n",
    "\n",
    "    # Conteo de reviews en blanco\n",
    "    reviews_en_blanco = df['review'].isnull().sum()\n",
    "\n",
    "    # Total de reviews\n",
    "    total_reviews = len(df)\n",
    "\n",
    "    # Se calculan porcentajes\n",
    "    porcentaje_score = (conteo_por_score / total_reviews * 100).round(2)\n",
    "    porcentaje_reviews_vacias = (reviews_en_blanco / total_reviews * 100).round(2)\n",
    "     \n",
    "    # Se eliminan las columnas 'review' y 'compound_score', no necesitaremos estos datos\n",
    "    df.drop(['compound_score'], axis=1, inplace=True)  \n",
    "\n",
    "    return df, conteo_por_score, reviews_en_blanco, porcentaje_score, porcentaje_reviews_vacias\n",
    "\n"
   ]
  },
  {
   "cell_type": "code",
   "execution_count": 61,
   "metadata": {},
   "outputs": [
    {
     "name": "stdout",
     "output_type": "stream",
     "text": [
      "\n",
      "Análisis de sentimientos:\n",
      "                    Conteo Porcentaje\n",
      "sentiment_analysis                   \n",
      "2                    31481     70.86%\n",
      "0                     8284     18.65%\n",
      "1                     4663      10.5%\n",
      "\n",
      "Conteo de reviews en blanco:  0  Porcentaje:  0.0%\n"
     ]
    }
   ],
   "source": [
    "# Se llama a la función analyze_sentiments\n",
    "df_UserReviews, conteo_por_score, reviews_en_blanco, porcentaje_score, porcentaje_reviews_vacias = analyze_sentiments(df_UserReviews)\n",
    "\n",
    "# Se crea un nuevo DataFrame con el conteo y porcentaje\n",
    "sentimientos = pd.DataFrame({\n",
    "    'Conteo': conteo_por_score,\n",
    "    'Porcentaje': porcentaje_score.round(2).astype(str) + '%'\n",
    "})\n",
    "\n",
    "# Se ordena el DataFrame por el conteo de mayor a menor\n",
    "sentimientos = sentimientos.sort_values(by='Conteo', ascending=False)\n",
    "\n",
    "# Se imprimen los resultados\n",
    "print(\"\\nAnálisis de sentimientos:\")\n",
    "print(sentimientos)\n",
    "print(\"\\nConteo de reviews en blanco: \", reviews_en_blanco, \" Porcentaje: \", porcentaje_reviews_vacias.round(2).astype(str) + '%')\n"
   ]
  },
  {
   "cell_type": "code",
   "execution_count": 62,
   "metadata": {},
   "outputs": [
    {
     "data": {
      "text/html": [
       "<div>\n",
       "<style scoped>\n",
       "    .dataframe tbody tr th:only-of-type {\n",
       "        vertical-align: middle;\n",
       "    }\n",
       "\n",
       "    .dataframe tbody tr th {\n",
       "        vertical-align: top;\n",
       "    }\n",
       "\n",
       "    .dataframe thead th {\n",
       "        text-align: right;\n",
       "    }\n",
       "</style>\n",
       "<table border=\"1\" class=\"dataframe\">\n",
       "  <thead>\n",
       "    <tr style=\"text-align: right;\">\n",
       "      <th></th>\n",
       "      <th>user_id</th>\n",
       "      <th>item_id</th>\n",
       "      <th>recommend</th>\n",
       "      <th>review</th>\n",
       "      <th>year</th>\n",
       "      <th>sentiment_analysis</th>\n",
       "    </tr>\n",
       "  </thead>\n",
       "  <tbody>\n",
       "    <tr>\n",
       "      <th>5331</th>\n",
       "      <td>76561198040188061</td>\n",
       "      <td>10</td>\n",
       "      <td>True</td>\n",
       "      <td>this game is the 1 online action game is aweso...</td>\n",
       "      <td>2011</td>\n",
       "      <td>2</td>\n",
       "    </tr>\n",
       "    <tr>\n",
       "      <th>45506</th>\n",
       "      <td>epic_doom</td>\n",
       "      <td>10</td>\n",
       "      <td>True</td>\n",
       "      <td>the og to csgo</td>\n",
       "      <td>2013</td>\n",
       "      <td>1</td>\n",
       "    </tr>\n",
       "    <tr>\n",
       "      <th>7801</th>\n",
       "      <td>mayshowganmore</td>\n",
       "      <td>10</td>\n",
       "      <td>True</td>\n",
       "      <td>the best fps game</td>\n",
       "      <td>2014</td>\n",
       "      <td>2</td>\n",
       "    </tr>\n",
       "    <tr>\n",
       "      <th>7967</th>\n",
       "      <td>BestinTheWorldThund3r</td>\n",
       "      <td>10</td>\n",
       "      <td>True</td>\n",
       "      <td>one of the best childhood games i have ever pl...</td>\n",
       "      <td>2014</td>\n",
       "      <td>2</td>\n",
       "    </tr>\n",
       "    <tr>\n",
       "      <th>8519</th>\n",
       "      <td>76561198072207162</td>\n",
       "      <td>10</td>\n",
       "      <td>True</td>\n",
       "      <td>people still play this siq game</td>\n",
       "      <td>2014</td>\n",
       "      <td>2</td>\n",
       "    </tr>\n",
       "    <tr>\n",
       "      <th>...</th>\n",
       "      <td>...</td>\n",
       "      <td>...</td>\n",
       "      <td>...</td>\n",
       "      <td>...</td>\n",
       "      <td>...</td>\n",
       "      <td>...</td>\n",
       "    </tr>\n",
       "    <tr>\n",
       "      <th>51725</th>\n",
       "      <td>76561198068265347</td>\n",
       "      <td>99900</td>\n",
       "      <td>True</td>\n",
       "      <td>a fun free to play game at first but eventuall...</td>\n",
       "      <td>2015</td>\n",
       "      <td>2</td>\n",
       "    </tr>\n",
       "    <tr>\n",
       "      <th>53065</th>\n",
       "      <td>76561198073638107</td>\n",
       "      <td>99900</td>\n",
       "      <td>False</td>\n",
       "      <td>elite orbs are more rarer than good presidenti...</td>\n",
       "      <td>2015</td>\n",
       "      <td>2</td>\n",
       "    </tr>\n",
       "    <tr>\n",
       "      <th>12393</th>\n",
       "      <td>Gatsukama</td>\n",
       "      <td>99910</td>\n",
       "      <td>True</td>\n",
       "      <td>looks like a cute childrens game but has more ...</td>\n",
       "      <td>2011</td>\n",
       "      <td>2</td>\n",
       "    </tr>\n",
       "    <tr>\n",
       "      <th>53052</th>\n",
       "      <td>Themfgamer</td>\n",
       "      <td>99910</td>\n",
       "      <td>False</td>\n",
       "      <td>110 just a bad game overall dead boring dead s...</td>\n",
       "      <td>2014</td>\n",
       "      <td>0</td>\n",
       "    </tr>\n",
       "    <tr>\n",
       "      <th>32632</th>\n",
       "      <td>Jezza453</td>\n",
       "      <td>99910</td>\n",
       "      <td>True</td>\n",
       "      <td>this is a highly strategic puzzle game it has ...</td>\n",
       "      <td>2015</td>\n",
       "      <td>2</td>\n",
       "    </tr>\n",
       "  </tbody>\n",
       "</table>\n",
       "<p>44428 rows × 6 columns</p>\n",
       "</div>"
      ],
      "text/plain": [
       "                     user_id item_id  recommend  \\\n",
       "5331       76561198040188061      10       True   \n",
       "45506              epic_doom      10       True   \n",
       "7801          mayshowganmore      10       True   \n",
       "7967   BestinTheWorldThund3r      10       True   \n",
       "8519       76561198072207162      10       True   \n",
       "...                      ...     ...        ...   \n",
       "51725      76561198068265347   99900       True   \n",
       "53065      76561198073638107   99900      False   \n",
       "12393              Gatsukama   99910       True   \n",
       "53052             Themfgamer   99910      False   \n",
       "32632               Jezza453   99910       True   \n",
       "\n",
       "                                                  review  year  \\\n",
       "5331   this game is the 1 online action game is aweso...  2011   \n",
       "45506                                     the og to csgo  2013   \n",
       "7801                                   the best fps game  2014   \n",
       "7967   one of the best childhood games i have ever pl...  2014   \n",
       "8519                     people still play this siq game  2014   \n",
       "...                                                  ...   ...   \n",
       "51725  a fun free to play game at first but eventuall...  2015   \n",
       "53065  elite orbs are more rarer than good presidenti...  2015   \n",
       "12393  looks like a cute childrens game but has more ...  2011   \n",
       "53052  110 just a bad game overall dead boring dead s...  2014   \n",
       "32632  this is a highly strategic puzzle game it has ...  2015   \n",
       "\n",
       "       sentiment_analysis  \n",
       "5331                    2  \n",
       "45506                   1  \n",
       "7801                    2  \n",
       "7967                    2  \n",
       "8519                    2  \n",
       "...                   ...  \n",
       "51725                   2  \n",
       "53065                   2  \n",
       "12393                   2  \n",
       "53052                   0  \n",
       "32632                   2  \n",
       "\n",
       "[44428 rows x 6 columns]"
      ]
     },
     "execution_count": 62,
     "metadata": {},
     "output_type": "execute_result"
    }
   ],
   "source": [
    "# Se borra la columna 'language' por ya no ser importantes para el modelo\n",
    "df_UserReviews = df_UserReviews.drop(['language'], axis=1)\n",
    "df_UserReviews"
   ]
  },
  {
   "cell_type": "code",
   "execution_count": 63,
   "metadata": {},
   "outputs": [
    {
     "name": "stdout",
     "output_type": "stream",
     "text": [
      "<class 'pandas.core.frame.DataFrame'>\n",
      "Index: 44428 entries, 5331 to 32632\n",
      "Data columns (total 6 columns):\n",
      " #   Column              Non-Null Count  Dtype \n",
      "---  ------              --------------  ----- \n",
      " 0   user_id             44428 non-null  object\n",
      " 1   item_id             44428 non-null  object\n",
      " 2   recommend           44428 non-null  bool  \n",
      " 3   review              44428 non-null  object\n",
      " 4   year                44428 non-null  Int64 \n",
      " 5   sentiment_analysis  44428 non-null  int64 \n",
      "dtypes: Int64(1), bool(1), int64(1), object(3)\n",
      "memory usage: 2.1+ MB\n"
     ]
    }
   ],
   "source": [
    "df_UserReviews.info()"
   ]
  },
  {
   "cell_type": "code",
   "execution_count": 64,
   "metadata": {},
   "outputs": [],
   "source": [
    "# El archivos se almacenan en local \n",
    "df_UserReviews.to_csv('user_reviews_cleaned.csv', index=False)"
   ]
  }
 ],
 "metadata": {
  "kernelspec": {
   "display_name": "PI1",
   "language": "python",
   "name": "python3"
  },
  "language_info": {
   "codemirror_mode": {
    "name": "ipython",
    "version": 3
   },
   "file_extension": ".py",
   "mimetype": "text/x-python",
   "name": "python",
   "nbconvert_exporter": "python",
   "pygments_lexer": "ipython3",
   "version": "3.11.8"
  }
 },
 "nbformat": 4,
 "nbformat_minor": 2
}
